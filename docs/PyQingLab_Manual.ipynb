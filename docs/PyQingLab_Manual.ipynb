{
 "cells": [
  {
   "cell_type": "markdown",
   "id": "0cfe0f02-6918-4adf-b766-29dee96ba108",
   "metadata": {},
   "source": [
    "# PyQingLAB python library for data acquisition and data analysis"
   ]
  },
  {
   "cell_type": "markdown",
   "id": "591701e8-4b7a-4cf0-861f-39f784478cd3",
   "metadata": {},
   "source": [
    "## Data acquisition module"
   ]
  },
  {
   "cell_type": "markdown",
   "id": "07b7c142-6dab-4b6c-b15e-1e4e6adcadd5",
   "metadata": {},
   "source": [
    "## Data analysis module"
   ]
  },
  {
   "cell_type": "code",
   "execution_count": null,
   "id": "d13e6aaa-5917-4d46-9077-17bc9393fa08",
   "metadata": {},
   "outputs": [],
   "source": []
  }
 ],
 "metadata": {
  "kernelspec": {
   "display_name": "Python 3 (ipykernel)",
   "language": "python",
   "name": "python3"
  },
  "language_info": {
   "codemirror_mode": {
    "name": "ipython",
    "version": 3
   },
   "file_extension": ".py",
   "mimetype": "text/x-python",
   "name": "python",
   "nbconvert_exporter": "python",
   "pygments_lexer": "ipython3",
   "version": "3.11.7"
  }
 },
 "nbformat": 4,
 "nbformat_minor": 5
}
